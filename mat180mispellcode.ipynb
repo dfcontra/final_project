{
 "cells": [
  {
   "cell_type": "code",
   "execution_count": 2,
   "id": "7c650651-185d-4167-98cc-1c8e08070e92",
   "metadata": {},
   "outputs": [],
   "source": [
    "#!/usr/bin/env python3\n",
    "# -*- coding: utf-8 -*-\n",
    "\"\"\"\n",
    "Created on Sun May 29 11:56:05 2022\n",
    "\n",
    "@author: gowthamarumugam\n",
    "\"\"\"\n",
    "\n",
    "import pandas as pd\n",
    "import numpy as np\n",
    "import csv\n",
    "\n",
    "\n",
    "x = np.loadtxt(\"wikipedia.dat\",dtype=\"object\")\n",
    "indices = []\n",
    "lookup = {}\n",
    "\n",
    "for i in range(len(x)):\n",
    "    if x[i][0] == \"$\":\n",
    "        indices.append(i)\n",
    "\n",
    "chunks = np.split(x,indices)\n",
    "\n",
    "altchunks = np.delete(chunks,0)\n",
    "\n",
    "for j in altchunks:\n",
    "    j[0] = j[0][1:]\n",
    "    lookup[j[0]] = np.delete(j,0)"
   ]
  }
 ],
 "metadata": {
  "kernelspec": {
   "display_name": "Python 3",
   "language": "python",
   "name": "python3"
  },
  "language_info": {
   "codemirror_mode": {
    "name": "ipython",
    "version": 3
   },
   "file_extension": ".py",
   "mimetype": "text/x-python",
   "name": "python",
   "nbconvert_exporter": "python",
   "pygments_lexer": "ipython3",
   "version": "3.8.8"
  }
 },
 "nbformat": 4,
 "nbformat_minor": 5
}
