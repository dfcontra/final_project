{
 "cells": [
  {
   "cell_type": "markdown",
   "metadata": {},
   "source": [
    "Processes word frequency dataset"
   ]
  },
  {
   "cell_type": "code",
   "execution_count": null,
   "metadata": {},
   "outputs": [],
   "source": [
    "import pandas as pd\n",
    "import enchant\n",
    "\n",
    "\n",
    "df = pd.read_csv('data.csv')\n",
    "\n",
    "df = df.dropna()\n",
    "\n",
    "d = enchant.Dict(\"en_US\")\n",
    "ls = []\n",
    "\n",
    "for i in range(df.shape[0]):\n",
    "    ls.append(d.check(df.iloc[i,0]))\n",
    "    \n",
    "df = df.loc[ls]\n",
    "\n",
    "df.to_csv(\"pp_data.csv\", index = False, header=True)"
   ]
  },
  {
   "cell_type": "markdown",
   "metadata": {},
   "source": [
    "Processes common mispellings dataset"
   ]
  },
  {
   "cell_type": "code",
   "execution_count": 1,
   "metadata": {},
   "outputs": [],
   "source": [
    "import pandas as pd\n",
    "import enchant\n",
    "\n",
    "df = pd.read_csv('mispellings.csv')\n",
    "df = df.drop(df.iloc[:,[0]], axis = 1)\n",
    "\n",
    "df = df.applymap(lambda a: str(a).lower())\n",
    "\n",
    "d = enchant.Dict(\"en_US\")\n",
    "ls = []\n",
    "\n",
    "for i in range(df.shape[0]):\n",
    "    ls.append(d.check(df.iloc[i,0]))\n",
    "    \n",
    "df = df.loc[ls]\n",
    "\n",
    "df.to_csv(\"pp_mispellings.csv\", index = False, header=True)"
   ]
  },
  {
   "cell_type": "code",
   "execution_count": null,
   "metadata": {},
   "outputs": [],
   "source": []
  }
 ],
 "metadata": {
  "interpreter": {
   "hash": "ad2bdc8ecc057115af97d19610ffacc2b4e99fae6737bb82f5d7fb13d2f2c186"
  },
  "kernelspec": {
   "display_name": "Python 3.9.7 ('base')",
   "language": "python",
   "name": "python3"
  },
  "language_info": {
   "codemirror_mode": {
    "name": "ipython",
    "version": 3
   },
   "file_extension": ".py",
   "mimetype": "text/x-python",
   "name": "python",
   "nbconvert_exporter": "python",
   "pygments_lexer": "ipython3",
   "version": "3.9.7"
  },
  "orig_nbformat": 4
 },
 "nbformat": 4,
 "nbformat_minor": 2
}
